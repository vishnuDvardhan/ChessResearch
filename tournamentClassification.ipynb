{
 "cells": [
  {
   "cell_type": "code",
   "id": "initial_id",
   "metadata": {
    "collapsed": true,
    "ExecuteTime": {
     "end_time": "2024-09-17T13:30:27.072821Z",
     "start_time": "2024-09-17T13:30:26.789568Z"
    }
   },
   "source": [
    "import chess.pgn\n",
    "import numpy as np\n",
    "\n",
    "def pgn_to_numpy(pgn_file):\n",
    "    with open(pgn_file) as f:\n",
    "        game = chess.pgn.read_game(f)\n",
    "    \n",
    "    board_states = []\n",
    "    \n",
    "    board = game.board()\n",
    "    \n",
    "    # Iterate through all moves\n",
    "    for move in game.mainline_moves():\n",
    "        board.push(move)\n",
    "        \n",
    "        # Convert the board state to a numeric representation\n",
    "        # Create a 8x8 NumPy array to store the pieces\n",
    "        board_array = np.zeros((8, 8), dtype=int)\n",
    "        \n",
    "        # Map each square to a number based on piece type and color\n",
    "        for square in chess.SQUARES:\n",
    "            piece = board.piece_at(square)\n",
    "            if piece is not None:\n",
    "                # Positive for white, negative for black\n",
    "                value = piece.piece_type if piece.color == chess.WHITE else -piece.piece_type\n",
    "                row, col = divmod(square, 8)\n",
    "                board_array[row][col] = value\n",
    "        \n",
    "        # Add the board state to the list\n",
    "        board_states.append(board_array)\n",
    "    \n",
    "    # Convert the list of arrays to a 3D NumPy array\n",
    "    return np.array(board_states)\n",
    "\n",
    "# Example usage\n",
    "pgn_file = \"/Users/vishnudvardhan/Downloads/lichess_db_antichess_rated_2024-08.pgn\"\n",
    "board_states_numpy = pgn_to_numpy(pgn_file)\n",
    "print(board_states_numpy)\n",
    "\n",
    "\n",
    "\n"
   ],
   "outputs": [
    {
     "name": "stdout",
     "output_type": "stream",
     "text": [
      "[[[ 4  2  3 ...  3  2  4]\n",
      "  [ 1  1  1 ...  1  1  1]\n",
      "  [ 0  0  0 ...  0  0  0]\n",
      "  ...\n",
      "  [ 0  0  0 ...  0  0  0]\n",
      "  [-1 -1 -1 ... -1 -1 -1]\n",
      "  [-4 -2 -3 ... -3 -2 -4]]\n",
      "\n",
      " [[ 4  2  3 ...  3  2  4]\n",
      "  [ 1  1  1 ...  1  1  1]\n",
      "  [ 0  0  0 ...  0  0  0]\n",
      "  ...\n",
      "  [ 0  0  0 ...  0  0  0]\n",
      "  [-1 -1 -1 ... -1 -1 -1]\n",
      "  [-4 -2 -3 ... -3 -2 -4]]\n",
      "\n",
      " [[ 4  2  3 ...  0  2  4]\n",
      "  [ 1  1  1 ...  1  1  1]\n",
      "  [ 0  0  0 ...  0  0  0]\n",
      "  ...\n",
      "  [ 3  0  0 ...  0  0  0]\n",
      "  [-1 -1 -1 ... -1 -1 -1]\n",
      "  [-4 -2 -3 ... -3 -2 -4]]\n",
      "\n",
      " ...\n",
      "\n",
      " [[ 0  2  0 ...  0  2  0]\n",
      "  [ 0  0  0 ...  0  0  0]\n",
      "  [ 0  0  0 ...  0  0  0]\n",
      "  ...\n",
      "  [ 0  0  0 ...  0  0  0]\n",
      "  [ 4  0  0 ...  0  0  0]\n",
      "  [ 0  0  0 ...  0  0  3]]\n",
      "\n",
      " [[ 0  2  0 ...  0  2  0]\n",
      "  [ 0  0  0 ...  0  0  0]\n",
      "  [ 0  0  0 ...  0  0  0]\n",
      "  ...\n",
      "  [ 0  0  0 ...  0  0  0]\n",
      "  [ 4  0 -4 ...  0  0  0]\n",
      "  [ 0  0  0 ...  0  0  3]]\n",
      "\n",
      " [[ 0  2  0 ...  0  2  0]\n",
      "  [ 0  0  0 ...  0  0  0]\n",
      "  [ 0  0  0 ...  0  0  0]\n",
      "  ...\n",
      "  [ 0  0  0 ...  0  0  0]\n",
      "  [ 0  0  4 ...  0  0  0]\n",
      "  [ 0  0  0 ...  0  0  3]]]\n"
     ]
    }
   ],
   "execution_count": 1
  },
  {
   "metadata": {
    "ExecuteTime": {
     "end_time": "2024-09-18T05:56:28.703839Z",
     "start_time": "2024-09-18T05:56:28.677062Z"
    }
   },
   "cell_type": "code",
   "source": "",
   "id": "824fa61d8734b00",
   "outputs": [
    {
     "ename": "AttributeError",
     "evalue": "'bool' object has no attribute 'sum'",
     "output_type": "error",
     "traceback": [
      "\u001B[0;31m---------------------------------------------------------------------------\u001B[0m",
      "\u001B[0;31mAttributeError\u001B[0m                            Traceback (most recent call last)",
      "Cell \u001B[0;32mIn[5], line 3\u001B[0m\n\u001B[1;32m      1\u001B[0m \u001B[38;5;28;01mimport\u001B[39;00m \u001B[38;5;21;01mnumpy\u001B[39;00m \u001B[38;5;28;01mas\u001B[39;00m \u001B[38;5;21;01mnp\u001B[39;00m\n\u001B[1;32m      2\u001B[0m a \u001B[38;5;241m=\u001B[39m np\u001B[38;5;241m.\u001B[39marray([[\u001B[38;5;241m1\u001B[39m,\u001B[38;5;241m2\u001B[39m],[\u001B[38;5;241m3\u001B[39m,\u001B[38;5;241m4\u001B[39m]])\n\u001B[0;32m----> 3\u001B[0m \u001B[38;5;28mprint\u001B[39m((\u001B[38;5;241m3\u001B[39m \u001B[38;5;129;01min\u001B[39;00m a)\u001B[38;5;241m.\u001B[39msum())\n",
      "\u001B[0;31mAttributeError\u001B[0m: 'bool' object has no attribute 'sum'"
     ]
    }
   ],
   "execution_count": 5
  }
 ],
 "metadata": {
  "kernelspec": {
   "display_name": "Python 3",
   "language": "python",
   "name": "python3"
  },
  "language_info": {
   "codemirror_mode": {
    "name": "ipython",
    "version": 2
   },
   "file_extension": ".py",
   "mimetype": "text/x-python",
   "name": "python",
   "nbconvert_exporter": "python",
   "pygments_lexer": "ipython2",
   "version": "2.7.6"
  }
 },
 "nbformat": 4,
 "nbformat_minor": 5
}
